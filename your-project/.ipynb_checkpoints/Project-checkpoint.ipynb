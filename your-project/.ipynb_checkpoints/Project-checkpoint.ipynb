{
 "cells": [
  {
   "cell_type": "code",
   "execution_count": 1,
   "metadata": {},
   "outputs": [
    {
     "name": "stdout",
     "output_type": "stream",
     "text": [
      "Bienvenido a Adivina Quién versión Data Analytics!\n",
      "A continuación se te presentarán diferentes pistas con las que tendrás que adivinar el nombre de alguno de nuestros compañeros\n",
      "Tendrás 3 intentos para adivinar a uno de nuestros compañeros pero no te preocupés, te iremos dando pistas muy representativas!\n",
      "Por cada compañero que adivines irás acumulando puntos\n",
      "Veamos qué tan bien conoces a tus compañeros 😎\n",
      "Pista 1 Edad:  25\n",
      "Ingresa el nombre del compañero según la pistaulises\n",
      "Pista 2 Hobby:   Artes Marciales\n",
      "Ingresa el nombre del compañero según la pistaponce\n"
     ]
    }
   ],
   "source": [
    "import pandas as pd\n",
    "import os\n",
    "import re\n",
    "import random\n",
    "\n",
    "data = pd.read_csv(\"./DA-IRONHACK-2019-COMPAÑEROS-1.csv\")\n",
    "compies_dict = data.to_dict()\n",
    "longitud_dict = len(compies_dict[\"Nombre\"].keys())\n",
    "\n",
    "print(\"Bienvenido a Adivina Quién versión Data Analytics!\\nA continuación se te presentarán diferentes pistas con las que tendrás que adivinar el nombre de alguno de nuestros compañeros\\nTendrás 3 intentos para adivinar a uno de nuestros compañeros pero no te preocupés, te iremos dando pistas muy representativas!\\nPor cada compañero que adivines irás acumulando puntos\\nVeamos qué tan bien conoces a tus compañeros 😎\")\n",
    "    \n",
    "contador = 0\n",
    "intentos = 0\n",
    "    \n",
    "estudiante_acumulador = []\n",
    "estudiante_random = int(random.uniform(0, longitud_dict))\n",
    "nombre_estudiante = str(compies_dict[\"Nombre\"][estudiante_random]).lower()\n",
    "acertado = False\n",
    "while acertado == False:\n",
    "    if intentos == 0:\n",
    "        print(\"Pista 1 Edad: \", compies_dict[\"Edad\"][estudiante_random])\n",
    "        adivinar_nombre = input(\"Ingresa el nombre del compañero según la pista\")\n",
    "        adivinar_nombre = adivinar_nombre.lower()\n",
    "        if adivinar_nombre == nombre_estudiante:\n",
    "            print(\"Has acertado!\")\n",
    "            acertado = True \n",
    "            estudiante_acumulador.append(estudiante_random)\n",
    "        else:\n",
    "            intentos += 1\n",
    "    elif intentos == 1:\n",
    "        print(\"Pista 2 Hobby:  \", compies_dict[\"Hobby\"][estudiante_random])\n",
    "        adivinar_nombre = input(\"Ingresa el nombre del compañero según la pista\")\n",
    "        adivinar_nombre = adivinar_nombre.lower()\n",
    "        if adivinar_nombre == nombre_estudiante:\n",
    "            print(\"Has acertado!\")\n",
    "            acertado = True\n",
    "        else:\n",
    "            intentos += 1\n",
    "    elif intentos == 2:\n",
    "        print(\"Última Pista Fun Fact: \", compies_dict[\"Fun Fact\"][estudiante_random])\n",
    "        adivinar_nombre = input(\"Ingresa el nombre del compañero según la pista\")\n",
    "        adivinar_nombre = adivinar_nombre.lower()\n",
    "        if adivinar_nombre == nombre_estudiante:\n",
    "            print(\"Has acertado!\")\n",
    "            acertado = True\n",
    "        else:\n",
    "            intentos += 1\n",
    "    else:\n",
    "        print(\"GAME OVER\")\n",
    "\n"
   ]
  },
  {
   "cell_type": "code",
   "execution_count": null,
   "metadata": {},
   "outputs": [],
   "source": []
  }
 ],
 "metadata": {
  "kernelspec": {
   "display_name": "Python 3",
   "language": "python",
   "name": "python3"
  },
  "language_info": {
   "codemirror_mode": {
    "name": "ipython",
    "version": 3
   },
   "file_extension": ".py",
   "mimetype": "text/x-python",
   "name": "python",
   "nbconvert_exporter": "python",
   "pygments_lexer": "ipython3",
   "version": "3.7.3"
  }
 },
 "nbformat": 4,
 "nbformat_minor": 2
}
