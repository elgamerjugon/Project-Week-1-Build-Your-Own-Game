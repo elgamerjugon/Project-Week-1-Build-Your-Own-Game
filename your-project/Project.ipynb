{
 "cells": [
  {
   "cell_type": "code",
   "execution_count": 54,
   "metadata": {},
   "outputs": [
    {
     "name": "stdout",
     "output_type": "stream",
     "text": [
      "['nombre,edad,hobby,fun fact', 'eduardo,23,fútbol,futbolista frustrado', 'daniel,23,tocar batería,tiene mota pero no vende', 'miguel,29,correr,no toma duchas calientes', 'brisa,31,pasear al perro,conoce cinco idiomas', 'rodrigo,26,jugar tennis,el mezcalero', 'jhoan,28,escuchar música,se baña solamente con agua fría', 'víctor,33,juegos de mesa,no terminó la universidad', 'jorge,27,aprender idiomas,miedo a los animales', 'enrique,23,patinar,adicto al pan dulce', 'patricia,26,gimnasio,politóloga queriendo programar', 'ponce,25,artes marciales,artes marciales', 'fernando,33,videojuegos,videojuegos', 'emilio,24,ver deportes,filósofo queriendo programar', 'paola,32,jardinería,aprendiendo japonés', 'diego,24,videojuegos,la oveja negra de la familia', 'josué,26,caminar,mordido por un murciélago', 'ulises,25,rugby,colecciona tazas feas', 'gustavo,29,videojuegos,usa chanclas', 'rodolfo,30,natación,futbolista frustrado', 'luis,26,fútbol,reprobó artes en el último grado', 'alejandro,27,atletismo,cinta negra en tae kwon do', '']\n"
     ]
    }
   ],
   "source": [
    "import pandas as pd\n",
    "import os\n",
    "import re\n",
    "\n",
    "def get_data(doc_name):\n",
    "    doc = open(doc_name,\"r\")\n",
    "    valores = doc.read()\n",
    "    #data = pd.concat(valores, axis=0)\n",
    "    #print(valores)\n",
    "    compis_list = valores.lower().split(\"\\n\")\n",
    "    print(compis_list[])\n",
    "    compi_dict = {}\n",
    "    #for compi in compis_list:\n",
    "        \n",
    "get_data(\"./DA-IRONHACK-2019-COMPAÑEROS.csv\")"
   ]
  }
 ],
 "metadata": {
  "kernelspec": {
   "display_name": "Python 3",
   "language": "python",
   "name": "python3"
  },
  "language_info": {
   "codemirror_mode": {
    "name": "ipython",
    "version": 3
   },
   "file_extension": ".py",
   "mimetype": "text/x-python",
   "name": "python",
   "nbconvert_exporter": "python",
   "pygments_lexer": "ipython3",
   "version": "3.7.3"
  }
 },
 "nbformat": 4,
 "nbformat_minor": 2
}
