{
 "cells": [
  {
   "cell_type": "code",
   "execution_count": 78,
   "metadata": {},
   "outputs": [
    {
     "name": "stdout",
     "output_type": "stream",
     "text": [
      "[['eduardo', '23', 'fútbol', 'futbolista frustrado'], ['daniel', '23', 'tocar batería', 'tiene mota pero no vende'], ['miguel', '29', 'correr', 'no toma duchas calientes'], ['brisa', '31', 'pasear al perro', 'conoce cinco idiomas'], ['rodrigo', '26', 'jugar tennis', 'el mezcalero'], ['jhoan', '28', 'escuchar música', 'se baña solamente con agua fría'], ['víctor', '33', 'juegos de mesa', 'no terminó la universidad'], ['jorge', '27', 'aprender idiomas', 'miedo a los animales'], ['enrique', '23', 'patinar', 'adicto al pan dulce'], ['patricia', '26', 'gimnasio', 'politóloga queriendo programar'], ['ponce', '25', 'artes marciales', 'artes marciales'], ['fernando', '33', 'videojuegos', 'videojuegos'], ['emilio', '24', 'ver deportes', 'filósofo queriendo programar'], ['paola', '32', 'jardinería', 'aprendiendo japonés'], ['diego', '24', 'videojuegos', 'la oveja negra de la familia'], ['josué', '26', 'caminar', 'mordido por un murciélago'], ['ulises', '25', 'rugby', 'colecciona tazas feas'], ['gustavo', '29', 'videojuegos', 'usa chanclas'], ['rodolfo', '30', 'natación', 'futbolista frustrado'], ['luis', '26', 'fútbol', 'reprobó artes en el último grado'], ['alejandro', '27', 'atletismo', 'cinta negra en tae kwon do'], ['']]\n"
     ]
    },
    {
     "ename": "NameError",
     "evalue": "name 'compi_dict' is not defined",
     "output_type": "error",
     "traceback": [
      "\u001b[1;31m---------------------------------------------------------------------------\u001b[0m",
      "\u001b[1;31mNameError\u001b[0m                                 Traceback (most recent call last)",
      "\u001b[1;32m<ipython-input-78-c716f066e4f2>\u001b[0m in \u001b[0;36m<module>\u001b[1;34m\u001b[0m\n\u001b[0;32m     19\u001b[0m \u001b[1;33m\u001b[0m\u001b[0m\n\u001b[0;32m     20\u001b[0m \u001b[1;33m\u001b[0m\u001b[0m\n\u001b[1;32m---> 21\u001b[1;33m \u001b[0mget_data\u001b[0m\u001b[1;33m(\u001b[0m\u001b[1;34m\"./DA-IRONHACK-2019-COMPAÑEROS.csv\"\u001b[0m\u001b[1;33m)\u001b[0m\u001b[1;33m\u001b[0m\u001b[1;33m\u001b[0m\u001b[0m\n\u001b[0m",
      "\u001b[1;32m<ipython-input-78-c716f066e4f2>\u001b[0m in \u001b[0;36mget_data\u001b[1;34m(doc_name)\u001b[0m\n\u001b[0;32m     14\u001b[0m     \u001b[1;31m#for element in new_list:\u001b[0m\u001b[1;33m\u001b[0m\u001b[1;33m\u001b[0m\u001b[1;33m\u001b[0m\u001b[0m\n\u001b[0;32m     15\u001b[0m     \u001b[1;31m#    compi_dict.update({\"name\":element})\u001b[0m\u001b[1;33m\u001b[0m\u001b[1;33m\u001b[0m\u001b[1;33m\u001b[0m\u001b[0m\n\u001b[1;32m---> 16\u001b[1;33m     \u001b[0mprint\u001b[0m\u001b[1;33m(\u001b[0m\u001b[0mcompi_dict\u001b[0m\u001b[1;33m)\u001b[0m\u001b[1;33m\u001b[0m\u001b[1;33m\u001b[0m\u001b[0m\n\u001b[0m\u001b[0;32m     17\u001b[0m     \u001b[1;31m#print(compi_dict)\u001b[0m\u001b[1;33m\u001b[0m\u001b[1;33m\u001b[0m\u001b[1;33m\u001b[0m\u001b[0m\n\u001b[0;32m     18\u001b[0m     \u001b[1;31m#for element in new_list:\u001b[0m\u001b[1;33m\u001b[0m\u001b[1;33m\u001b[0m\u001b[1;33m\u001b[0m\u001b[0m\n",
      "\u001b[1;31mNameError\u001b[0m: name 'compi_dict' is not defined"
     ]
    }
   ],
   "source": [
    "import pandas as pd\n",
    "import os\n",
    "import re\n",
    "\n",
    "def get_data(doc_name):\n",
    "    doc = open(doc_name,\"r\")\n",
    "    valores = doc.read()\n",
    "    #data = pd.concat(valores, axis=0)\n",
    "    #print(valores)\n",
    "    compis_list = valores.lower().split(\"\\n\")\n",
    "    new_list = [elemento.split(\",\") for elemento in compis_list]\n",
    "    #compi_dict = {\"name\":\"\", \"edad\":\"\", \"hobby\":\"\", \"fun fact\":\"\"}\n",
    "    print(new_list)\n",
    "    #for element in new_list:\n",
    "    #    compi_dict.update({\"name\":element})\n",
    "    print(compi_dict)\n",
    "    #print(compi_dict)\n",
    "    #for element in new_list:\n",
    "        \n",
    "        \n",
    "get_data(\"./DA-IRONHACK-2019-COMPAÑEROS.csv\")"
   ]
  }
 ],
 "metadata": {
  "kernelspec": {
   "display_name": "Python 3",
   "language": "python",
   "name": "python3"
  },
  "language_info": {
   "codemirror_mode": {
    "name": "ipython",
    "version": 3
   },
   "file_extension": ".py",
   "mimetype": "text/x-python",
   "name": "python",
   "nbconvert_exporter": "python",
   "pygments_lexer": "ipython3",
   "version": "3.7.3"
  }
 },
 "nbformat": 4,
 "nbformat_minor": 2
}
